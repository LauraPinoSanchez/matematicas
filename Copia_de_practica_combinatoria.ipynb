{
  "nbformat": 4,
  "nbformat_minor": 0,
  "metadata": {
    "colab": {
      "provenance": [],
      "collapsed_sections": []
    },
    "kernelspec": {
      "name": "python3",
      "display_name": "Python 3"
    },
    "language_info": {
      "name": "python"
    }
  },
  "cells": [
    {
      "cell_type": "markdown",
      "source": [
        "# Práctica 1. Combinatoria\n",
        "Resuelva los siguientes apartados de la práctica.  \n",
        "La práctica 1.1 se proporciona solucionada para que pueda servir como ejemplo.\n"
      ],
      "metadata": {
        "id": "VP-PLgSCPtPC"
      }
    },
    {
      "cell_type": "markdown",
      "source": [
        "## Práctica 1.1\n",
        "Cuatro amigos:\n",
        "* Antonio (A)\n",
        "* Begoña (B)\n",
        "* Cesar (C)\n",
        "* Diana (D)\n",
        "\n",
        "constituyen una asociación y tienen que asignar los siguientes cargos:\n",
        "* Presiente (1)\n",
        "* Vicepresidente (2)\n",
        "* Secretario (3)\n",
        "* Tesorero (4)\n",
        "\n",
        "Se pide:\n",
        "1. Escribiendo la solución en una celda de Markdown analice el caso indicando si se trata de variaciones, permutaciones o combinaciones, con o sin repetición o el caso que sea, y el motivo para clasificar el caso de esta forma.\n",
        "2. Utilizando fórmulas de $\\LaTeX$ calcule cuántos casos existen.\n",
        "3. Cree un programa en Python para calcule cuántos casos existen.\n",
        "4. Cree un programa en Python para imprimir todas las posibilidades y numérelas. Por ejemplo:\n",
        "    - 1 ABCD\n",
        "    - 2 ABDC\n",
        "    - 3 ACBD\n",
        "    - ... ... ..."
      ],
      "metadata": {
        "id": "6oyoxqfbQJDC"
      }
    },
    {
      "cell_type": "markdown",
      "source": [
        "### Solución 1.1\n",
        "* Estamos ante un caso de **permutaciones sin repetición** ya que:\n",
        " - El orden importa, no es lo mismo estar el nº1 que significa ser presidente que el nº 4 que corresponde al tesorero.\n",
        " - Intervienen todos. Son 4 amigos para 4 cargos, todos tienen cargo, lo que cambiar es el orden, esto es, el cargo que obtengan.\n",
        " - No se repiten elementos. Una persona no puede tener dos cargos simultaneamente.\n",
        "* Los casos que se obtienen con las permutaciones sin repetición son $P_{n}=n!$ que para este ejemplo son:\n",
        "\n",
        "$$P_{4}=4!=4 \\cdot 3 \\cdot 2 \\cdot 1 = 24$$"
      ],
      "metadata": {
        "id": "t5unIqR7jdZR"
      }
    },
    {
      "cell_type": "code",
      "source": [
        "import math\n",
        "p = math.factorial(4)                  \n",
        "print(\"Los casos son: \", p)\n",
        "print(\"Comprobación:  \", 4*3*2*1)"
      ],
      "metadata": {
        "id": "va3_l_-hmFS-"
      },
      "execution_count": null,
      "outputs": []
    },
    {
      "cell_type": "markdown",
      "source": [
        "#### Método 1\n",
        "Sin usar librería."
      ],
      "metadata": {
        "id": "kOM3pEAGnh8v"
      }
    },
    {
      "cell_type": "code",
      "source": [
        "lista = ['A', 'B', 'C', 'D']\n",
        "contador = 1\n",
        "\n",
        "for i in lista:\n",
        "    for j in lista:\n",
        "        for k in lista:\n",
        "            for l in lista:\n",
        "                if i != j and i != k and i != l and j != k and j != l and k != l:\n",
        "                    print(f\"{contador:2d} →  {i+j+k+l}\")\n",
        "                    contador += 1"
      ],
      "metadata": {
        "id": "5--ZpSoJncj3"
      },
      "execution_count": null,
      "outputs": []
    },
    {
      "cell_type": "markdown",
      "source": [
        "#### Método 2\n",
        "* Usamos la función `permutations` de la librería `intertools`.\n",
        "* Imprimimos todas las permutaciones de los elementos de una lista."
      ],
      "metadata": {
        "id": "2PoCD5GlnwS1"
      }
    },
    {
      "cell_type": "code",
      "source": [
        "from itertools import permutations\n",
        "\n",
        "perm = permutations(['A','B','C','D'])   # obtenemos todas las permutaciones de la lista \n",
        "\n",
        "for i in list(perm):                     # imprimimos todas las permutaciones \n",
        "    print (*i)                           # con el asterisco se muestran las listas sin corchetes ni comas"
      ],
      "metadata": {
        "id": "eKkB1gQnn6_P"
      },
      "execution_count": null,
      "outputs": []
    },
    {
      "cell_type": "markdown",
      "source": [
        "## Práctica 1.2\n",
        "Cuatro amigos:\n",
        "* Antonio (A)\n",
        "* Begoña (B)\n",
        "* Cesar (C)\n",
        "* Diana (D)\n",
        "\n",
        "constituyen una asociación y tienen que asignar los siguientes cargos:\n",
        "* Presiente (1)\n",
        "* Secretario (3)\n",
        "* Tesorero (4)\n",
        "\n",
        "Se pide:\n",
        "1. Escribiendo la solución en una celda de Markdown analice el caso indicando si se trata de variaciones, permutaciones o combinaciones, con o sin repetición o el caso que sea, y el motivo para clasificar el caso de esta forma.\n",
        "2. Utilizando fórmulas de $\\LaTeX$ calcule cuántos casos existen.\n",
        "3. Cree un programa en Python para calcule cuántos casos existen.\n",
        "4. Cree un programa en Python para imprimir todas las posibilidades y numérelas. Por ejemplo:\n",
        "    - 1 ABC\n",
        "    - 2 ABD\n",
        "    - 3 ACB\n",
        "    - ... ... ..."
      ],
      "metadata": {
        "id": "sxSuCpAFSBPJ"
      }
    },
    {
      "cell_type": "markdown",
      "source": [
        "### Solución 1.2"
      ],
      "metadata": {
        "id": "xx9qsw_ej9Pd"
      }
    },
    {
      "cell_type": "markdown",
      "source": [
        "* Estamos ante un caso de **variaciones sin repetición** ya que:\n",
        "\n",
        " - El orden importa, no es lo mismo estar el nº1 que significa ser presidente que el nº 3 que corresponde al tesorero.\n",
        " - No intervienen todos. Son 4 amigos para 3 cargos, uno no obtiene cargo.\n",
        " - No se repiten elementos. Una persona no puede tener dos cargos simultaneamente.\n",
        "\n",
        "* Los casos que se obtienen con las variaciones sin repetición son $V^r_n=\\frac{n!}{(n-r)!}$ que para este ejemplo son variaciones de 4 elementos tomados de 3 en 3:\n",
        "\n",
        "$$V^r_n=\\frac{n!}{(n-r)!}=\\frac{4!}{(4-3)!}=\\frac{4!}{1!}=\\frac{4·3·2·1}{1}=4·3·2 =24$$"
      ],
      "metadata": {
        "id": "YcIIFpEaC0Kg"
      }
    },
    {
      "cell_type": "code",
      "source": [
        "from math import factorial\n",
        "r = 3\n",
        "n = 4\n",
        "print(f\"Los casos que se obtienen son {int(factorial(n)/factorial(n-r))}\")"
      ],
      "metadata": {
        "id": "MdQbdE_iHBpi",
        "colab": {
          "base_uri": "https://localhost:8080/"
        },
        "outputId": "2fa26661-506b-42d4-e0e3-3501b1f45236"
      },
      "execution_count": 1,
      "outputs": [
        {
          "output_type": "stream",
          "name": "stdout",
          "text": [
            "Los casos que se obtienen son 24\n"
          ]
        }
      ]
    },
    {
      "cell_type": "markdown",
      "source": [
        "# Resolución del 1.2 usando la librería\n"
      ],
      "metadata": {
        "id": "KhRuYhgqa3eC"
      }
    },
    {
      "cell_type": "code",
      "source": [
        "import itertools\n",
        "it = itertools.permutations([\"A\",\"B\",\"C\", \"D\",],3)          # Obtenemos todas las permutaciones de la lista\n",
        "          \n",
        "\n",
        "li = list(it)\n",
        "\n",
        "print()\n",
        "\n",
        "for i in range(len(li)):\n",
        "\n",
        "    print(f\"Variación número {i+1:2d}: \", *li[i])               # Imprimimos la variación con un contador que vaya diciendo el puesto que ocupa cada variación (print(\"Variación número\", i+1,\":\", *li[i])\n",
        "                                                                # El \"*\" sirve para mostrar la lista sin paréntesis y comillas"
      ],
      "metadata": {
        "colab": {
          "base_uri": "https://localhost:8080/"
        },
        "id": "1LKy4rpkFfz4",
        "outputId": "0c607305-3b56-4b09-924d-2b214538aff3"
      },
      "execution_count": 2,
      "outputs": [
        {
          "output_type": "stream",
          "name": "stdout",
          "text": [
            "\n",
            "Variación número  1:  A B C\n",
            "Variación número  2:  A B D\n",
            "Variación número  3:  A C B\n",
            "Variación número  4:  A C D\n",
            "Variación número  5:  A D B\n",
            "Variación número  6:  A D C\n",
            "Variación número  7:  B A C\n",
            "Variación número  8:  B A D\n",
            "Variación número  9:  B C A\n",
            "Variación número 10:  B C D\n",
            "Variación número 11:  B D A\n",
            "Variación número 12:  B D C\n",
            "Variación número 13:  C A B\n",
            "Variación número 14:  C A D\n",
            "Variación número 15:  C B A\n",
            "Variación número 16:  C B D\n",
            "Variación número 17:  C D A\n",
            "Variación número 18:  C D B\n",
            "Variación número 19:  D A B\n",
            "Variación número 20:  D A C\n",
            "Variación número 21:  D B A\n",
            "Variación número 22:  D B C\n",
            "Variación número 23:  D C A\n",
            "Variación número 24:  D C B\n"
          ]
        }
      ]
    },
    {
      "cell_type": "markdown",
      "source": [
        "## Práctica 1.3\n",
        "Invente un caso de **variaciones sin repetición**.\n",
        "Se pide contestar a los mismos puntos que el caso anterior."
      ],
      "metadata": {
        "id": "D0S1DjF4MKmz"
      }
    },
    {
      "cell_type": "markdown",
      "source": [
        "Cinco bolas diferentes:\n",
        "\n",
        "\n",
        "*   Roja (A)\n",
        "*   Azul (B)\n",
        "*   Verde (C)\n",
        "*   Amarilla (D)\n",
        "*   Naranja (E)\n",
        "\n",
        "\n",
        "\n",
        "Se pueden distribuir en dos cajas:\n",
        "\n",
        "\n",
        "*   Grande (1)\n",
        "*   Pequeña (2)\n",
        "\n",
        "Se pide:\n",
        "\n",
        "1. Escribiendo la solución en una celda de Markdown analice el caso indicando si se trata de variaciones, permutaciones o combinaciones, con o sin repetición o el caso que sea, y el motivo para clasificar el caso de esta forma.\n",
        "2. Utilizando fórmulas de  $\\LaTeX$  calcule cuántos casos existen.\n",
        "3. Cree un programa en Python para calcule cuántos casos existen.\n",
        "4. Cree un programa en Python para imprimir todas las posibilidades y numérelas.\n",
        "\n",
        "\n",
        "\n",
        "\n",
        "\n",
        "\n"
      ],
      "metadata": {
        "id": "aL4wvcC71fko"
      }
    },
    {
      "cell_type": "markdown",
      "source": [
        "### Solución 1.3"
      ],
      "metadata": {
        "id": "AfyuPIASj_20"
      }
    },
    {
      "cell_type": "markdown",
      "source": [
        "* Estamos ante un caso de **variaciones sin repetición** ya que:\n",
        " - El orden importa, no es lo mismo que una pelota esté en la caja grande que en la pequeña.\n",
        " - No intervienen todas.\n",
        " - No se repiten elementos. Una bola no puede estar ubicada en dos cajas simultaneamente.\n",
        "* Los casos que se obtienen con las variaciones sin repetición son $V^r_n=\\frac{n!}{(n-r)!}$ que para este ejemplo son variaciones de 5 elementos tomados de 2 en 2:\n",
        "\n",
        "$$V^r_n=\\frac{n!}{(n-r)!}=\\frac{5!}{(5-2)!}=\\frac{5!}{3!}=\\frac{5 · 4 · 3!}{3!}=5 · 4 =20$$\n",
        "\n",
        "\n",
        "\n",
        "\n",
        "\n",
        "\n",
        "\n"
      ],
      "metadata": {
        "id": "mf7-LSEP4ryG"
      }
    },
    {
      "cell_type": "code",
      "source": [
        "from math import factorial\n",
        "r = 2\n",
        "n = 5\n",
        "print(f\"Los casos que se obtienen son {int(factorial(n)/factorial(n-r))}\")"
      ],
      "metadata": {
        "id": "bANPsRpWnuq9"
      },
      "execution_count": null,
      "outputs": []
    },
    {
      "cell_type": "markdown",
      "source": [
        "# Resolución del 1.3 usando la librería"
      ],
      "metadata": {
        "id": "hi92cv5KuFQU"
      }
    },
    {
      "cell_type": "code",
      "source": [
        "import itertools\n",
        "it = itertools.permutations([\"A\",\"B\",\"C\", \"D\", \"E\"],2)          # Obtenemos todas las permutaciones de la lista\n",
        "          \n",
        "\n",
        "li = list(it)\n",
        "\n",
        "print()\n",
        "\n",
        "for i in range(len(li)):\n",
        "\n",
        "    print(f\"Variación número {i+1:2d}: \", *li[i])               # Imprimimos la variación con un contador que vaya diciendo el puesto que ocupa cada variación (print(\"Variación número\", i+1,\":\", *li[i])\n",
        "                                                                # El \"*\" sirve para mostrar la lista sin paréntesis y comillas"
      ],
      "metadata": {
        "colab": {
          "base_uri": "https://localhost:8080/"
        },
        "id": "LqhC9Lq2uEox",
        "outputId": "878e7e2e-e1d5-4288-94d7-ba351dff3136"
      },
      "execution_count": 41,
      "outputs": [
        {
          "output_type": "stream",
          "name": "stdout",
          "text": [
            "\n",
            "Variación número  1:  A B\n",
            "Variación número  2:  A C\n",
            "Variación número  3:  A D\n",
            "Variación número  4:  A E\n",
            "Variación número  5:  B A\n",
            "Variación número  6:  B C\n",
            "Variación número  7:  B D\n",
            "Variación número  8:  B E\n",
            "Variación número  9:  C A\n",
            "Variación número 10:  C B\n",
            "Variación número 11:  C D\n",
            "Variación número 12:  C E\n",
            "Variación número 13:  D A\n",
            "Variación número 14:  D B\n",
            "Variación número 15:  D C\n",
            "Variación número 16:  D E\n",
            "Variación número 17:  E A\n",
            "Variación número 18:  E B\n",
            "Variación número 19:  E C\n",
            "Variación número 20:  E D\n"
          ]
        }
      ]
    },
    {
      "cell_type": "markdown",
      "source": [
        "## Práctica 1.4\n",
        "Invente un caso de **variaciones con repetición**.\n",
        "Se pide contestar a los mismos puntos que el caso anterior."
      ],
      "metadata": {
        "id": "gvlnqCaRMTua"
      }
    },
    {
      "cell_type": "markdown",
      "source": [
        "Sabiendo que existen 27 letras en el abecedario:\n",
        "   * A\n",
        "   * B\n",
        "   * C\n",
        "   * D\n",
        "   * E\n",
        "   * F\n",
        "   * G\n",
        "   * H\n",
        "   * I\n",
        "   * J\n",
        "   * K\n",
        "   * L\n",
        "   * M\n",
        "   * N\n",
        "   * Ñ\n",
        "   * O\n",
        "   * P\n",
        "   * Q\n",
        "   * R\n",
        "   * S\n",
        "   * T\n",
        "   * U\n",
        "   * V\n",
        "   * W\n",
        "   * X\n",
        "   * Y\n",
        "   * Z\n",
        "\n",
        "¿Cuántas formas diferentes hay de escribir grupos de tres letras (pudiendo repetirlas)?\n",
        "\n",
        "\n",
        "Se pide:\n",
        "\n",
        "1.   Escribiendo la solución en una celda Markdown analice el caso indicando si\n",
        "se trata de variaciones, permutaciones o combinaciones, con o sin repetición o el caso que sea, y el motivo para clasificar el caso de esta forma.\n",
        "2. Utilizando fórmulas de   $\\LaTeX$  calcule cuántos casos existen.\n",
        "3. Cree un programa en Python para calcule cuántos casos existen.\n",
        "4. Cree un programa en Python para imprimir todas las posibilidades y numérelas.\n",
        "\n",
        "\n"
      ],
      "metadata": {
        "id": "T3aH_u7OwSYA"
      }
    },
    {
      "cell_type": "markdown",
      "source": [
        "### Solución 1.4"
      ],
      "metadata": {
        "id": "hzvsgRDbkCy1"
      }
    },
    {
      "cell_type": "markdown",
      "source": [
        "* Estamos ante un caso de **variaciones con repetición** ya que:\n",
        " - No intervienen todos, pues hay 27 letras y cada grupo solo contiene 3.\n",
        " - El orden sí que importa. Por ejemplo, no es lo mismo el grupo \"ABC\" que el \"CZE\".\n",
        " - Sí se pueden repetir elementos, ya que podemos tener el grupo \"AAA\", por ejemplo.\n",
        "\n",
        "* Los casos que se obtienen con las variaciones con repetición son $VR^p_n={n ^p}$ que para este ejemplo son variaciones de 27 elementos tomados de 3 en :\n",
        "\n",
        "$$VR^p_n=n^p={27^3}=19683$$"
      ],
      "metadata": {
        "id": "91FMo6cW3ZeL"
      }
    },
    {
      "cell_type": "code",
      "source": [
        "p = 3\n",
        "n = 27\n",
        "print(f\"Los casos que se obtienen son {int(n**p)}\")"
      ],
      "metadata": {
        "colab": {
          "base_uri": "https://localhost:8080/"
        },
        "id": "YmjhLQsVXIdh",
        "outputId": "485ada3f-ff51-4c3c-da85-983f15e8e1a5"
      },
      "execution_count": 1,
      "outputs": [
        {
          "output_type": "stream",
          "name": "stdout",
          "text": [
            "Los casos que se obtienen son 19683\n"
          ]
        }
      ]
    },
    {
      "cell_type": "markdown",
      "source": [
        "# Resolución 1.4 usando la librería"
      ],
      "metadata": {
        "id": "DVFbpRDjXJkc"
      }
    },
    {
      "cell_type": "code",
      "source": [],
      "metadata": {
        "id": "2Wnm11yyw4cI"
      },
      "execution_count": null,
      "outputs": []
    },
    {
      "cell_type": "markdown",
      "source": [
        "## Práctica 1.5\n",
        "Invente un caso de **permutaciones sin repetición**.\n",
        "Se pide contestar a los mismos puntos que el caso anterior."
      ],
      "metadata": {
        "id": "0OCAC-I-G5F6"
      }
    },
    {
      "cell_type": "markdown",
      "source": [
        "Tenemos ocho coches:\n",
        "\n",
        "\n",
        "*   Coche negro (A)\n",
        "*   Coche blanco (B)\n",
        "*   Coche rojo (C)\n",
        "*   Coche azul (D)\n",
        "*   Coche amarillo (E)\n",
        "*   Coche verde (F)\n",
        "*   Coche morado (G)\n",
        "*   Coche gris (H)\n",
        "\n",
        "Sabiendo que sólo hay ocho aparcamientos. Se pide:\n",
        "\n",
        "1.   Escribiendo la solución en una celda Markdown analice el caso indicando si\n",
        "se trata de variaciones, permutaciones o combinaciones, con o sin repetición o el caso que sea, y el motivo para clasificar el caso de esta forma.\n",
        "2. Utilizando fórmulas de   $\\LaTeX$  calcule cuántos casos existen.\n",
        "3. Cree un programa en Python para calcule cuántos casos existen.\n",
        "4. Cree un programa en Python para imprimir todas las posibilidades y numérelas.\n",
        "\n",
        "\n",
        "\n"
      ],
      "metadata": {
        "id": "8nLQ_Qck8Cb2"
      }
    },
    {
      "cell_type": "markdown",
      "source": [
        "### Solución 1.5"
      ],
      "metadata": {
        "id": "FvLcj6XXkFOV"
      }
    },
    {
      "cell_type": "markdown",
      "source": [
        "*    Estamos ante un caso de **permutaciones sin repetición**, dado que:\n",
        "\n",
        " -   El orden importa, no es lo mismo aparcar en el primer aparcamiento que en el quinto, por ejemplo.\n",
        " -   Intervienen todos, puesto que hay 8 coches y 8 aparcamientos, por lo que la única opción que puede variar es la forma en la que se coloquen.\n",
        " -   No se repiten elementos. Un coche no puede estar aparcado en dos plazas a la vez.\n",
        "*   Los casos que se obtienen con las permutaciones sin repetición son $P_{n}=n!$ que para este ejemplo son:\n",
        "\n",
        "$$P_8= 8!= 8·7·6·5·4·3·2·1=40320$$\n"
      ],
      "metadata": {
        "id": "eTH3Uhykm8fB"
      }
    },
    {
      "cell_type": "code",
      "source": [
        "import math\n",
        "p = math.factorial (8)\n",
        "print (\"Los casos son:\", p)\n",
        "print (\"Comprobación:\", 8*7*6*5*4*3*2*1)"
      ],
      "metadata": {
        "id": "0KIHU2QdqyYA"
      },
      "execution_count": null,
      "outputs": []
    },
    {
      "cell_type": "markdown",
      "source": [
        "# Resolución del 1.5 usando la librería"
      ],
      "metadata": {
        "id": "x0oNdMR5VpZ6"
      }
    },
    {
      "cell_type": "code",
      "source": [
        "from itertools import permutations\n",
        "\n",
        "perm = permutations ([\"A\",\"B\",\"C\",\"D\",\"E\",\"F\",\"G\",\"H\"])    # Obtenemos todas las permutaciones de la lista\n",
        "\n",
        "contador = 1                                               # Establecemos un contador para ver cada caso numerado\n",
        "\n",
        "for i in list(perm):                                       \n",
        "  print (f\"{contador:5d} → \", end=\"\")                      # Usamos el end= para imprimir dos líneas de código juntas de tal manera que veamos la permutación con el número que ocupa\n",
        "  print (*i)\n",
        "  contador += 1\n"
      ],
      "metadata": {
        "id": "XH0McM7f0qdg"
      },
      "execution_count": null,
      "outputs": []
    },
    {
      "cell_type": "markdown",
      "source": [
        "## Práctica 1.6\n",
        "Invente un caso de **permutaciones con repetición**.\n",
        "Se pide contestar a los mismos puntos que el caso anterior."
      ],
      "metadata": {
        "id": "YWUXIczqLj3W"
      }
    },
    {
      "cell_type": "markdown",
      "source": [
        "Con las letras de la palabra BANANA, ¿cuántas palabras nuevas podemos formar?\n",
        "\n",
        "Además, se pide:\n",
        "\n",
        "1.   Escribiendo la solución en una celda Markdown analice el caso indicando si\n",
        "se trata de variaciones, permutaciones o combinaciones, con o sin repetición o el caso que sea, y el motivo para clasificar el caso de esta forma.\n",
        "2. Utilizando fórmulas de   $\\LaTeX$  calcule cuántos casos existen.\n",
        "3. Cree un programa en Python para calcule cuántos casos existen.\n",
        "4. Cree un programa en Python para imprimir todas las posibilidades y numérelas."
      ],
      "metadata": {
        "id": "Bj23s0hDjvL4"
      }
    },
    {
      "cell_type": "markdown",
      "source": [
        "### Solución 1.6"
      ],
      "metadata": {
        "id": "siAxWVVekHs6"
      }
    },
    {
      "cell_type": "markdown",
      "source": [
        "* Estamos ante un caso de **permutaciones con repetición**, dado que:\n",
        "\n",
        " -   El orden importa, no es la misma palabra si se colocan las letras en un lugar u otro. La palabra BANANA no es lo mismo que la palabra ANANBA, por ejemplo.\n",
        " -   Intervienen todos, puesto que hay 6 letras y se utilizan todas.\n",
        " -   Sí se repiten elementos. La la letra A aparece 3 veces y N aparece 2 veces, mientras que la letra B sólo 1.\n",
        "\n",
        "\n",
        "\n",
        "\n",
        "\n",
        "\n",
        "\n",
        "\n",
        "\n",
        "\n",
        "\n",
        "\n",
        "\n",
        "\n",
        "\n",
        "\n",
        "\n",
        "\n",
        "\n",
        "\n",
        "\n",
        "\n",
        "\n",
        "\n",
        "\n",
        "\n",
        "\n",
        "\n",
        " CORREGIR DESDE AQUÍ\n",
        "*   Los casos que se obtienen con las permutaciones con repetición son $P_{n}=n!$ que para este ejemplo son:\n",
        "\n",
        "$$P_6^1$$"
      ],
      "metadata": {
        "id": "fIjh0zrQx2Vt"
      }
    },
    {
      "cell_type": "code",
      "source": [],
      "metadata": {
        "id": "v9mvgB9D1WYw"
      },
      "execution_count": null,
      "outputs": []
    },
    {
      "cell_type": "markdown",
      "source": [
        "# Resolución del 1.6 usando la librería"
      ],
      "metadata": {
        "id": "Ns1FGUTx1Nac"
      }
    },
    {
      "cell_type": "code",
      "source": [],
      "metadata": {
        "id": "_LWH9o3l1MrQ"
      },
      "execution_count": null,
      "outputs": []
    },
    {
      "cell_type": "markdown",
      "source": [
        "## Práctica 1.7\n",
        "Invente un caso de **combinaciones sin repetición**.\n",
        "Se pide contestar a los mismos puntos que el caso anterior."
      ],
      "metadata": {
        "id": "opCrIDtJGg1R"
      }
    },
    {
      "cell_type": "markdown",
      "source": [
        "Un alumno decide presentar 3 de las 6 evaluaciones: \n",
        "*   Lengua (A)\n",
        "*   Matemáticas (B)\n",
        "*   Historia de España (C)\n",
        "*   Francés (D)\n",
        "*   Inglés (E)\n",
        "*   Alemán (F)\n",
        "\n",
        "¿De cuántas maneras diferentes puede elegir esas evaluaciones?\n",
        "\n",
        "Además, se pide: \n",
        "\n",
        "1.   Escribiendo la solución en una celda Markdown analice el caso indicando si\n",
        "se trata de variaciones, permutaciones o combinaciones, con o sin repetición o el caso que sea, y el motivo para clasificar el caso de esta forma.\n",
        "2. Utilizando fórmulas de   $\\LaTeX$  calcule cuántos casos existen.\n",
        "3. Cree un programa en Python para calcule cuántos casos existen.\n",
        "4. Cree un programa en Python para imprimir todas las posibilidades y numérelas."
      ],
      "metadata": {
        "id": "3Z5E1vWSisTx"
      }
    },
    {
      "cell_type": "markdown",
      "source": [
        "### Solución 1.7"
      ],
      "metadata": {
        "id": "Zs46BsRnkJcl"
      }
    },
    {
      "cell_type": "markdown",
      "source": [
        "*    Estamos ante un caso de **combinaciones sin repetición**, dado que:\n",
        "\n",
        " -   El orden no importa, da igual la forma en la que el alumno selecciona las asginaturas a las que se quiere presentar.\n",
        " -   No intervienen todos, puesto que hay 6 materias o asginaturas distintas y el alumno solamente se presenta a 3 de las 6 que hay, por lo que debe descartar tres no interviniendo así todos los elementos existentes.\n",
        " -   No se repiten elementos. Un alumno no se puede presentar más de una vez al examen de una misma asignatura.\n",
        "\n",
        "\n",
        "*   Los casos que se obtienen con las combinaciones sin repetición son $ C^n_m = C_{m,n} = \\binom{m}{n} = \\frac{m!}{n!(m-n)!} $ que para este ejemplo son combinaciones de 6 elementos tomados de 3 en 3:\n",
        "\n",
        "\n",
        "\n",
        "$$C^3_6 = C_{6,3} = \\binom{6}{3} =\\frac{6!}{3!(6-3)!} = \\frac{6!}{3!·3!} = \\frac{6 · 5 · 4 · 3!}{3! · 3!} = 20$$"
      ],
      "metadata": {
        "id": "SXm8Yjf0XP9-"
      }
    },
    {
      "cell_type": "code",
      "source": [
        "from math import factorial\n",
        "print(f\"Los casos que se obtienen son {int(factorial(6)/factorial(3)/factorial(6-3))}\")"
      ],
      "metadata": {
        "id": "d97QS5LakTXe"
      },
      "execution_count": null,
      "outputs": []
    },
    {
      "cell_type": "markdown",
      "source": [
        "# Resolución del 1.7 usando la librería"
      ],
      "metadata": {
        "id": "NwUN3rHAfd1I"
      }
    },
    {
      "cell_type": "code",
      "source": [
        "from itertools import combinations\n",
        "\n",
        "c = combinations('ABCDEF', 3)            # Obtenemos todas las combinaciones de la lista\n",
        "\n",
        "contador = 1                             # Establecemos un contador para ver cada caso numerado\n",
        "\n",
        "for i in c:\n",
        "   print (f\"{contador:2d} → \", end=\"\")   # Usamos el end= para imprimir dos líneas de código juntas de tal manera que veamos la combinación con el número que ocupa\n",
        "\n",
        "   contador +=1\n",
        "\n",
        "   print(\"\".join(i))\n",
        "\n"
      ],
      "metadata": {
        "id": "DdYkWemDaviF"
      },
      "execution_count": null,
      "outputs": []
    },
    {
      "cell_type": "markdown",
      "source": [
        "## Práctica 1.8\n",
        "Invente un caso de **combinaciones con repetición**.\n",
        "Se pide contestar a los mismos puntos que el caso anterior."
      ],
      "metadata": {
        "id": "-7Y5WWlDGzAR"
      }
    },
    {
      "cell_type": "markdown",
      "source": [
        "En una pastelería hay seis tipos distintos de pasteles.\n",
        "*   Palmeras de chocolate (A)\n",
        "*   Bueñuelos de nata (B)\n",
        "*   Borrachos (C)\n",
        "*   Pepitos (D)\n",
        "*   Trufas (E)\n",
        "*   Donuts de azúcar (F)\n",
        "\n",
        "Sabiendo que tenemos que coger un total de 4 pasteles, pudiendo elegir el mismo las cuatro veces. Se pide:\n",
        "\n",
        "1.   Escribiendo la solución en una celda Markdown analice el caso indicando si\n",
        "se trata de variaciones, permutaciones o combinaciones, con o sin repetición o el caso que sea, y el motivo para clasificar el caso de esta forma.\n",
        "2. Utilizando fórmulas de   $\\LaTeX$  calcule cuántos casos existen.\n",
        "3. Cree un programa en Python para calcule cuántos casos existen.\n",
        "4. Cree un programa en Python para imprimir todas las posibilidades y numérelas.\n",
        "\n"
      ],
      "metadata": {
        "id": "P83Idf53h8Eh"
      }
    },
    {
      "cell_type": "markdown",
      "source": [
        "### Solución 1.8"
      ],
      "metadata": {
        "id": "ReRULqd8kL1F"
      }
    },
    {
      "cell_type": "markdown",
      "source": [
        "*    Estamos ante un caso de **combinaciones con repetición**, dado que:\n",
        "\n",
        " -   El orden no importa, da igual el orden en el cual se elijan los pasteles que se quieren comprar, ya que todas las permutaciones contituyen la misma combinación: es lo mismo ABCD que DCBA.\n",
        " -   No intervienen todos, puesto que hay 6 pasteles diferentes y el cliente solamente tiene que escoger 4 de las 6 opciones de bollería que hay, por lo que debe descartar dos, por lo que no intervienen todos los elementos existentes.\n",
        " -   Sí se repiten elementos, el cliente puede escoger el mismo dulce las cuatro veces.\n",
        "\n",
        "Por tanto, tenemos que: \n",
        "* Número de elementos diferentes disponibles $\\longrightarrow \\quad m=6$\n",
        "* Número de elementos a colocar en cada grupo: $\\longrightarrow \\quad n=4$\n",
        "\n",
        "Por todo lo dicho anteriormente estamos ante un caso de combinaciones con repetición de 6 elementos tomados de 4 en 4, cuya fórmula general es $CR^n_m = CR_{n,m} = C_{n,m+n-1} = \\binom{m+n-1}{n} = \\frac{(m+n-1)!}{n! · (m-1)!} $, que para este caso:\n",
        "\n",
        "$$ CR^4_6 = CR_{6,4} = \\binom{6+4-1}{4} = \\frac{(6+4-1)!}{4! \\cdot (6-1)!} = \\frac{9!}{4! · 5!} = \\frac{9·8·7·6·5·4!}{4!·5!} = 126$$\n",
        "\n",
        "\n",
        "\n"
      ],
      "metadata": {
        "id": "_O5f9g_2f0YT"
      }
    },
    {
      "cell_type": "code",
      "source": [
        "m = 6\n",
        "n = 4\n",
        "print(f\"Los casos que se obtienen son {int(factorial(m+n-1)/factorial(n)/factorial(m-1))}\")"
      ],
      "metadata": {
        "colab": {
          "base_uri": "https://localhost:8080/"
        },
        "id": "cUGkhkOIau4k",
        "outputId": "c16d0cd8-ff93-44cd-b4b5-9489a4380730"
      },
      "execution_count": 61,
      "outputs": [
        {
          "output_type": "stream",
          "name": "stdout",
          "text": [
            "Los casos que se obtienen son 126\n"
          ]
        }
      ]
    },
    {
      "cell_type": "markdown",
      "source": [
        "# Resolución del 1.8 usando la librería"
      ],
      "metadata": {
        "id": "rRZQeMcMkJ57"
      }
    },
    {
      "cell_type": "code",
      "source": [
        "from itertools import combinations_with_replacement\n",
        "c = combinations_with_replacement('ABCDEF', 4)  #Obtenemos todas las combinaciones con repetición de la lista\n",
        "\n",
        "contador = 1                                    # Obtenemos un contador para ver cada caso numerado\n",
        "\n",
        "for i in c:\n",
        "\n",
        "  print (f\"{contador:3d} → \", end=\"\")           # Usamos el end= para imprimir dos líneas de código juntas de tal manera que veamos la combinación con el número que ocupa\n",
        "\n",
        "  contador +=1\n",
        "\n",
        "  print(*i)                                      # Empleamos el \"*\" para imprimir las combinaciones sin paréntesis     \n",
        "\n",
        "\n",
        "\n",
        "\n"
      ],
      "metadata": {
        "id": "pCwM8m4TkupB"
      },
      "execution_count": null,
      "outputs": []
    },
    {
      "cell_type": "markdown",
      "source": [
        "## Práctica 1.9\n",
        "En el gobierno se crea una unidad de crisis formada por el presidente (P) y 4 ministros (A,B,C,D) que se reúnen sentados alrededor de una **mesa redonda**.\n",
        "\n",
        "Se pide:  \n",
        "1. Calcule de cuantas formas pueden llegar a sentarse si el ministro de defensa (D) siempre ha de estar al lado del presidente (P). Escriba la solución en una celda de Markdown utilizando fórmulas en $\\LaTeX$  explicando el caso.\n",
        "2. Cree un programa en Python para calcular el número de casos que se pueden dar al sentarse en la mesa.\n",
        "3. Cree un programa en Python para imprimir todas las posibilidades y numérelas. Por ejemplo:\n",
        "    - 1 PABCD\n",
        "    - 2 PDABC\n",
        "    - 3 PACBD\n",
        "    - ... ... ...\n"
      ],
      "metadata": {
        "id": "SOzxh_YgHnDG"
      }
    },
    {
      "cell_type": "markdown",
      "source": [
        "### Solución 1.9"
      ],
      "metadata": {
        "id": "F8kV034OkQZX"
      }
    },
    {
      "cell_type": "markdown",
      "source": [
        "## Práctica 10\n",
        "* Realice una breve explicación teórica del **triángulo de Pascal**, o también llamado triángulo de Tartaglia, y de las fórmulas de los números combinatorios.\n",
        "* Cree un programa en Python para hacer triángulo de Pascal."
      ],
      "metadata": {
        "id": "eiHdMOP-MkrZ"
      }
    },
    {
      "cell_type": "markdown",
      "source": [
        "### Solución 1.10"
      ],
      "metadata": {
        "id": "j0UT2579kTSM"
      }
    },
    {
      "cell_type": "markdown",
      "source": [
        "El **Triángulo de Pascal**, también conocido como **Triángulo de Tartaglia** o **Triángulo numérico**, es una disposición de números enteros que adopta una forma triangular, en la que cada línea se construye a partir de la anterior. \n",
        "\n",
        "La característica de este triángulo es que cada número es igual a la **suma de los dos números que tiene por encima**; claro está, que a excepción del número \"1\", pues éste siempre se ubica en los extremos.\n",
        "\n",
        "Menionar también que es **infinito y simétrico respecto al eje vertical**, dado que se lee de la misma manera si empezamos por la izquierda o por la derecha.\n",
        "\n",
        "La primera fila se denomina \"*fila 0*\" y la suma de todos los valores numéricos de cualquier fila del triángulo es igual a una **potencia de base 2**.\n",
        "\n",
        "Los números del triángulo de Pascal coinciden con los **números combinatorios**.\n",
        "El número combinatorio $ C^n_m $ se encuentra en el triángulo en la fila $n+1$, en el lugar $m+1$; por tanto,  en cada fila el número superior de los números combinatorios coincide con el número de la fila y el número inferior de los números combinatorios va aumentando desde 0 hasta el número de fila.\n",
        "\n",
        "\n",
        "\n",
        "\n"
      ],
      "metadata": {
        "id": "XyECsMkbF0Kc"
      }
    },
    {
      "cell_type": "code",
      "source": [],
      "metadata": {
        "id": "jY83eeSipEPl"
      },
      "execution_count": null,
      "outputs": []
    }
  ]
}